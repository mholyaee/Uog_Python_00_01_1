{
 "cells": [
  {
   "cell_type": "markdown",
   "id": "077be965",
   "metadata": {},
   "source": [
    "# Variables, Expressions, and Statements\n"
   ]
  },
  {
   "attachments": {},
   "cell_type": "markdown",
   "id": "ed9b4515",
   "metadata": {},
   "source": [
    "## Example3:\n",
    "**Javad is a runner and runs in the beach every day!. Write a program to prompt the user for time he runs in seconds to compute hour, minute and seconds he have run.**\n",
    "<br>**Enter Seconds: 3700 \n",
    "<br>hour: 1\n",
    "Minute: 1\n",
    "Second: 40**"
   ]
  },
  {
   "cell_type": "code",
   "execution_count": 7,
   "id": "60892bfd",
   "metadata": {},
   "outputs": [
    {
     "name": "stdout",
     "output_type": "stream",
     "text": [
      "input measure:6000\n",
      "Hour: 1 minute: 40 second: 0\n"
     ]
    }
   ],
   "source": [
    "a=(input(\"input measure:\"))\n",
    "\n",
    "#try:\n",
    "a=int(a)\n",
    "h=int(a/3600)\n",
    "temp=a%3600\n",
    "m=int(temp/60)\n",
    "s=temp%60\n",
    "    \n",
    "print('Hour:',h,'minute:',m,'second:',s)"
   ]
  },
  {
   "cell_type": "code",
   "execution_count": null,
   "id": "16d45afe",
   "metadata": {},
   "outputs": [],
   "source": []
  }
 ],
 "metadata": {
  "kernelspec": {
   "display_name": "Python 3",
   "language": "python",
   "name": "python3"
  },
  "language_info": {
   "codemirror_mode": {
    "name": "ipython",
    "version": 3
   },
   "file_extension": ".py",
   "mimetype": "text/x-python",
   "name": "python",
   "nbconvert_exporter": "python",
   "pygments_lexer": "ipython3",
   "version": "3.8.8"
  }
 },
 "nbformat": 4,
 "nbformat_minor": 5
}
