{
 "cells": [
  {
   "cell_type": "markdown",
   "id": "054d83f6",
   "metadata": {},
   "source": [
    "# Conditional Execution"
   ]
  },
  {
   "cell_type": "markdown",
   "id": "579a6b15",
   "metadata": {},
   "source": [
    "## Example1:\n",
    "**Write a program which categorizes the students into the below groups, based on their averages:**\n",
    "* Weak\n",
    "* Intermediate\n",
    "* Good\n",
    "* Excellent"
   ]
  },
  {
   "cell_type": "markdown",
   "id": "5d4e522a",
   "metadata": {},
   "source": [
    "**First approach:**"
   ]
  },
  {
   "cell_type": "code",
   "execution_count": 2,
   "id": "a1944c0f",
   "metadata": {},
   "outputs": [
    {
     "name": "stdout",
     "output_type": "stream",
     "text": [
      "Give me your average:0\n"
     ]
    }
   ],
   "source": [
    "avg=float(input('Give me your average:'))\n",
    "if avg>0 and avg<=12:      # 0<avg<=12\n",
    "    print('Weak')\n",
    "if avg>12 and avg<=14:     # 12<avg<=14\n",
    "    print('Intermediate')\n",
    "if avg>14 and avg<=16:     # 14<avg<=16\n",
    "    print('Good')\n",
    "if avg>16:\n",
    "    print('Excellent')\n",
    "    "
   ]
  },
  {
   "cell_type": "markdown",
   "id": "9ef4538c",
   "metadata": {},
   "source": [
    "**Second:**"
   ]
  },
  {
   "cell_type": "code",
   "execution_count": 3,
   "id": "e00c2e9a",
   "metadata": {},
   "outputs": [
    {
     "name": "stdout",
     "output_type": "stream",
     "text": [
      "Give me your average:17.1\n",
      "Excellent\n"
     ]
    }
   ],
   "source": [
    "avg=float(input('Give me your average:'))\n",
    "if  avg<=12:\n",
    "    print('Weak')\n",
    "elif avg<=14:\n",
    "    print('Intermediate')\n",
    "elif avg<=17:\n",
    "    print('Good')\n",
    "else:\n",
    "    print('Excellent')\n"
   ]
  },
  {
   "cell_type": "markdown",
   "id": "e76ddbfe",
   "metadata": {},
   "source": [
    "**Application of try/except statement:**"
   ]
  },
  {
   "cell_type": "code",
   "execution_count": 8,
   "id": "c8147b24",
   "metadata": {},
   "outputs": [
    {
     "ename": "ValueError",
     "evalue": "invalid literal for int() with base 10: 'Hello Bob'",
     "output_type": "error",
     "traceback": [
      "\u001b[1;31m---------------------------------------------------------------------------\u001b[0m",
      "\u001b[1;31mValueError\u001b[0m                                Traceback (most recent call last)",
      "\u001b[1;32m<ipython-input-8-a96d2ddd189b>\u001b[0m in \u001b[0;36m<module>\u001b[1;34m\u001b[0m\n\u001b[0;32m      1\u001b[0m \u001b[0mastr\u001b[0m \u001b[1;33m=\u001b[0m \u001b[1;34m'Hello Bob'\u001b[0m\u001b[1;33m\u001b[0m\u001b[1;33m\u001b[0m\u001b[0m\n\u001b[1;32m----> 2\u001b[1;33m \u001b[0mistr\u001b[0m \u001b[1;33m=\u001b[0m \u001b[0mint\u001b[0m\u001b[1;33m(\u001b[0m\u001b[0mastr\u001b[0m\u001b[1;33m)\u001b[0m\u001b[1;33m\u001b[0m\u001b[1;33m\u001b[0m\u001b[0m\n\u001b[0m\u001b[0;32m      3\u001b[0m \u001b[0mprint\u001b[0m\u001b[1;33m(\u001b[0m\u001b[1;34m'First'\u001b[0m\u001b[1;33m,\u001b[0m \u001b[0mistr\u001b[0m\u001b[1;33m)\u001b[0m\u001b[1;33m\u001b[0m\u001b[1;33m\u001b[0m\u001b[0m\n\u001b[0;32m      4\u001b[0m \u001b[0mastr\u001b[0m \u001b[1;33m=\u001b[0m \u001b[1;34m'123'\u001b[0m\u001b[1;33m\u001b[0m\u001b[1;33m\u001b[0m\u001b[0m\n\u001b[0;32m      5\u001b[0m \u001b[0mistr\u001b[0m \u001b[1;33m=\u001b[0m \u001b[0mint\u001b[0m\u001b[1;33m(\u001b[0m\u001b[0mastr\u001b[0m\u001b[1;33m)\u001b[0m\u001b[1;33m\u001b[0m\u001b[1;33m\u001b[0m\u001b[0m\n",
      "\u001b[1;31mValueError\u001b[0m: invalid literal for int() with base 10: 'Hello Bob'"
     ]
    }
   ],
   "source": [
    "astr = 'Hello Bob'\n",
    "istr = int(astr)    # astr can not be converted to int measure!\n",
    "print('First', istr)\n",
    "astr = '123'\n",
    "istr = int(astr)\n",
    "print('Second', istr)\n"
   ]
  },
  {
   "cell_type": "markdown",
   "id": "365be9a3",
   "metadata": {},
   "source": [
    "**Using try/except structure:**"
   ]
  },
  {
   "cell_type": "code",
   "execution_count": 9,
   "id": "533297a5",
   "metadata": {},
   "outputs": [
    {
     "name": "stdout",
     "output_type": "stream",
     "text": [
      "First -1\n",
      "Second 123\n"
     ]
    }
   ],
   "source": [
    "astr = 'Hello Bob'\n",
    "try:\n",
    "    istr = int(astr)\n",
    "except:\n",
    "    istr = -1\n",
    "\n",
    "print('First', istr)\n",
    "\n",
    "astr = '123'\n",
    "try:\n",
    "    istr = int(astr)\n",
    "except:\n",
    "    istr = -1\n",
    "\n",
    "print('Second', istr)\n"
   ]
  },
  {
   "cell_type": "markdown",
   "id": "b0f2a279",
   "metadata": {},
   "source": [
    "## Example 2:\n",
    "**Simulating a calculator with four opreators**\n",
    "<br>**First soulotion:**"
   ]
  },
  {
   "cell_type": "code",
   "execution_count": 3,
   "id": "7f6b107e",
   "metadata": {},
   "outputs": [
    {
     "name": "stdout",
     "output_type": "stream",
     "text": [
      "the first:7\n",
      "Second:0\n",
      "Enter the opreator:/\n"
     ]
    },
    {
     "ename": "ZeroDivisionError",
     "evalue": "division by zero",
     "output_type": "error",
     "traceback": [
      "\u001b[1;31m---------------------------------------------------------------------------\u001b[0m",
      "\u001b[1;31mZeroDivisionError\u001b[0m                         Traceback (most recent call last)",
      "\u001b[1;32m<ipython-input-3-1fce25f0fe65>\u001b[0m in \u001b[0;36m<module>\u001b[1;34m\u001b[0m\n\u001b[0;32m      9\u001b[0m     \u001b[0mprint\u001b[0m\u001b[1;33m(\u001b[0m\u001b[0ma\u001b[0m\u001b[1;33m*\u001b[0m\u001b[0mb\u001b[0m\u001b[1;33m)\u001b[0m\u001b[1;33m\u001b[0m\u001b[1;33m\u001b[0m\u001b[0m\n\u001b[0;32m     10\u001b[0m \u001b[1;32melif\u001b[0m \u001b[0mop\u001b[0m\u001b[1;33m==\u001b[0m\u001b[1;34m'/'\u001b[0m\u001b[1;33m:\u001b[0m\u001b[1;33m\u001b[0m\u001b[1;33m\u001b[0m\u001b[0m\n\u001b[1;32m---> 11\u001b[1;33m     \u001b[0mprint\u001b[0m\u001b[1;33m(\u001b[0m\u001b[0ma\u001b[0m\u001b[1;33m/\u001b[0m\u001b[0mb\u001b[0m\u001b[1;33m)\u001b[0m\u001b[1;33m\u001b[0m\u001b[1;33m\u001b[0m\u001b[0m\n\u001b[0m\u001b[0;32m     12\u001b[0m \u001b[1;32melse\u001b[0m\u001b[1;33m:\u001b[0m\u001b[1;33m\u001b[0m\u001b[1;33m\u001b[0m\u001b[0m\n\u001b[0;32m     13\u001b[0m     \u001b[0mprint\u001b[0m\u001b[1;33m(\u001b[0m\u001b[1;34m'Your input is not valid!!'\u001b[0m\u001b[1;33m)\u001b[0m\u001b[1;33m\u001b[0m\u001b[1;33m\u001b[0m\u001b[0m\n",
      "\u001b[1;31mZeroDivisionError\u001b[0m: division by zero"
     ]
    }
   ],
   "source": [
    "a=int(input('the first:'))\n",
    "b=int(input('Second:'))\n",
    "op=input('Enter the opreator:')\n",
    "if op=='+':\n",
    "    print(a+b)\n",
    "elif op=='-':\n",
    "    print(a-b)\n",
    "elif op=='*':\n",
    "    print(a*b)\n",
    "elif op=='/':\n",
    "    print(a/b)\n",
    "else:\n",
    "    print('Your input is not valid!!')\n"
   ]
  },
  {
   "cell_type": "markdown",
   "id": "aebc46e4",
   "metadata": {},
   "source": [
    "## Example3:\n",
    "**Improving the calculator when in dealing with measure/0:**"
   ]
  },
  {
   "cell_type": "code",
   "execution_count": 4,
   "id": "57a1837c",
   "metadata": {},
   "outputs": [
    {
     "name": "stdout",
     "output_type": "stream",
     "text": [
      "the first:12\n",
      "Second:0\n",
      "Enter the opreator:/\n",
      "It is not possible!\n"
     ]
    }
   ],
   "source": [
    "a=int(input('the first:'))\n",
    "b=int(input('Second:'))\n",
    "op=input('Enter the opreator:')\n",
    "\n",
    "if op=='+':\n",
    "    print(a+b)\n",
    "elif op=='-':\n",
    "    print(a-b)\n",
    "elif op=='*':\n",
    "    print(a*b)\n",
    "elif op=='/':\n",
    "    try:\n",
    "        print(a/b)\n",
    "    except:\n",
    "        print(\"It is not possible!\")        \n",
    "else:\n",
    "    print('Your input is not valid!!')\n"
   ]
  },
  {
   "cell_type": "code",
   "execution_count": 14,
   "id": "49309162",
   "metadata": {},
   "outputs": [
    {
     "name": "stdout",
     "output_type": "stream",
     "text": [
      "1\n"
     ]
    }
   ],
   "source": [
    "    "
   ]
  },
  {
   "cell_type": "code",
   "execution_count": null,
   "id": "83862bac",
   "metadata": {},
   "outputs": [],
   "source": []
  }
 ],
 "metadata": {
  "kernelspec": {
   "display_name": "Python 3",
   "language": "python",
   "name": "python3"
  },
  "language_info": {
   "codemirror_mode": {
    "name": "ipython",
    "version": 3
   },
   "file_extension": ".py",
   "mimetype": "text/x-python",
   "name": "python",
   "nbconvert_exporter": "python",
   "pygments_lexer": "ipython3",
   "version": "3.8.8"
  }
 },
 "nbformat": 4,
 "nbformat_minor": 5
}
