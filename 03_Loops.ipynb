{
 "cells": [
  {
   "cell_type": "markdown",
   "id": "69ef8e95",
   "metadata": {},
   "source": [
    "# Loops and iterations\n"
   ]
  },
  {
   "cell_type": "markdown",
   "id": "1b9460d4",
   "metadata": {},
   "source": [
    "## Example1:\n",
    "**Computig factorial**"
   ]
  },
  {
   "cell_type": "code",
   "execution_count": 19,
   "id": "ca2dc887",
   "metadata": {},
   "outputs": [
    {
     "name": "stdout",
     "output_type": "stream",
     "text": [
      "Enter:7\n",
      "Computed fact: 5040\n"
     ]
    }
   ],
   "source": [
    "n=int(input(\"Enter:\"))\n",
    "i=1\n",
    "F=1\n",
    "while i<=n:\n",
    "    F*=i\n",
    "    i+=1\n",
    "print(\"Computed fact:\",F)\n"
   ]
  },
  {
   "cell_type": "markdown",
   "id": "714f849e",
   "metadata": {},
   "source": [
    "## Example2:\n",
    "**Write a program which computes sum of the below measures:**\n",
    "<br>1+1/2+1/3+...+1/100"
   ]
  },
  {
   "cell_type": "code",
   "execution_count": 20,
   "id": "e494af97",
   "metadata": {},
   "outputs": [
    {
     "name": "stdout",
     "output_type": "stream",
     "text": [
      "5.187377517639621\n"
     ]
    }
   ],
   "source": [
    "i=1\n",
    "Sum=0\n",
    "while i<=100:\n",
    "    Sum+=1/i\n",
    "    i+=1\n",
    "print(Sum)\n"
   ]
  },
  {
   "cell_type": "markdown",
   "id": "d438f68f",
   "metadata": {},
   "source": [
    "## Example3:\n",
    "**Write a program which receives a number as input and prints all of its divisors**"
   ]
  },
  {
   "cell_type": "code",
   "execution_count": 21,
   "id": "fa28427d",
   "metadata": {},
   "outputs": [
    {
     "name": "stdout",
     "output_type": "stream",
     "text": [
      "The input is:250\n",
      "1\n",
      "2\n",
      "5\n",
      "10\n",
      "25\n",
      "50\n",
      "125\n",
      "250\n"
     ]
    }
   ],
   "source": [
    "n=int(input(\"The input is:\"))\n",
    "i=1\n",
    "while i<=n:\n",
    "    if n%i==0:\n",
    "        print(i)\n",
    "    i+=1\n"
   ]
  },
  {
   "cell_type": "markdown",
   "id": "46030ad8",
   "metadata": {},
   "source": [
    "## Example4:\n",
    "**write a program getting some input measures and in the last, print the number of even measures.\n",
    "<br> The proram terminates when the user inputs zero.\n",
    "<br> Note: using break.**"
   ]
  },
  {
   "cell_type": "code",
   "execution_count": 26,
   "id": "518db4fd",
   "metadata": {},
   "outputs": [
    {
     "name": "stdout",
     "output_type": "stream",
     "text": [
      ">10\n",
      ">12\n",
      ">3\n",
      ">4\n",
      ">6\n",
      ">7\n",
      ">90\n",
      ">0\n",
      "Number of even measures: 5\n"
     ]
    }
   ],
   "source": [
    "counter=0\n",
    "\n",
    "while True:\n",
    "    n=int(input('>'))\n",
    "    if n==0:\n",
    "        break\n",
    "    if n%2==0:\n",
    "        counter+=1\n",
    "\n",
    "print('Number of even measures:',counter)\n"
   ]
  },
  {
   "cell_type": "markdown",
   "id": "297491aa",
   "metadata": {},
   "source": [
    "**Second way:**"
   ]
  },
  {
   "cell_type": "code",
   "execution_count": 29,
   "id": "6cc45074",
   "metadata": {},
   "outputs": [
    {
     "name": "stdout",
     "output_type": "stream",
     "text": [
      ">15\n",
      ">0\n",
      "Number of even measures: 0\n"
     ]
    }
   ],
   "source": [
    "counter=0\n",
    "n=int(input('>'))\n",
    "\n",
    "while n!=0:\n",
    "    if n%2==0:\n",
    "        counter+=1\n",
    "    n=int(input('>'))\n",
    "\n",
    "print('Number of even measures:',counter)"
   ]
  },
  {
   "cell_type": "markdown",
   "id": "408d3cf2",
   "metadata": {},
   "source": [
    "## Example5:\n",
    "**Extending the calculator: Improves the calculator such that it terminates when the user types '$' inested of opreators**"
   ]
  },
  {
   "cell_type": "code",
   "execution_count": null,
   "id": "c5e0fa9c",
   "metadata": {},
   "outputs": [
    {
     "name": "stdout",
     "output_type": "stream",
     "text": [
      "Op=*\n",
      "numbers:12 3\n",
      "36\n",
      "Op=-\n",
      "numbers:7 6\n",
      "1\n",
      "Op=+\n",
      "numbers:1 2\n",
      "3\n"
     ]
    }
   ],
   "source": [
    "while True:\n",
    "    Op=input(\"Op=\")\n",
    "    if Op=='$':\n",
    "        break;\n",
    "    a,b=(input(\"numbers:\").split())\n",
    "    a=int(a)\n",
    "    b=int(b)\n",
    "    if Op=='+':\n",
    "        print(a+b)\n",
    "    elif Op=='-':\n",
    "        print(a-b)\n",
    "    elif Op=='*':\n",
    "        print(a*b)\n",
    "    else:\n",
    "        try:\n",
    "            print(a/b)\n",
    "        except:\n",
    "            print('Try again')\n"
   ]
  },
  {
   "cell_type": "markdown",
   "id": "3bb8691c",
   "metadata": {},
   "source": [
    "## Example6:\n",
    "**Writing the numbe of odded measures:**"
   ]
  },
  {
   "cell_type": "code",
   "execution_count": 12,
   "id": "8cf2a3bd",
   "metadata": {},
   "outputs": [
    {
     "name": "stdout",
     "output_type": "stream",
     "text": [
      "> 0\n",
      "0\n"
     ]
    }
   ],
   "source": [
    "sum=0\n",
    "while True:\n",
    "    X= int(input('> '))\n",
    "    if X==0:\n",
    "         break\n",
    "    if X%2==0 :\n",
    "         continue\n",
    "    sum+=1\n",
    "print(sum)\n"
   ]
  },
  {
   "cell_type": "markdown",
   "id": "86559489",
   "metadata": {},
   "source": [
    "## Example7:\n",
    "**write a program which prints the phreases which not starts with '*'.\n",
    "<br> If the user inputs 'done' phrese, the program is terminated**"
   ]
  },
  {
   "cell_type": "code",
   "execution_count": 9,
   "id": "6ecfb84c",
   "metadata": {
    "scrolled": true
   },
   "outputs": [
    {
     "name": "stdout",
     "output_type": "stream",
     "text": [
      "> yes\n",
      "yes\n",
      "> hi\n",
      "hi\n",
      "> bye\n",
      "bye\n",
      "> *ddd\n",
      "> *dfg\n",
      "> done\n",
      "3\n"
     ]
    }
   ],
   "source": [
    "n=0\n",
    "while True:\n",
    "    line = input('> ')\n",
    "    if line[0] == '*' :\n",
    "        continue\n",
    "    if line == 'done' :\n",
    "        break\n",
    "    n+=1    \n",
    "    print(line)\n",
    "print(n)\n"
   ]
  },
  {
   "cell_type": "markdown",
   "id": "75ea357d",
   "metadata": {},
   "source": [
    "## Example8:\n",
    "**Computing the cost of family**\n"
   ]
  },
  {
   "cell_type": "code",
   "execution_count": null,
   "id": "f2a33521",
   "metadata": {},
   "outputs": [],
   "source": [
    "avg=0\n",
    "maxc=0\n",
    "for i in [1,2,3,4,5,6,7,8,9,10,11,12]:\n",
    "    cost=int(input())\n",
    "    avg+=cost\n",
    "    if maxc<=cost:\n",
    "        maxc=cost\n",
    "        ind=i\n",
    "print('The max cost has been occured in:',ind)\n",
    "print('Average is:',avg/12)\n"
   ]
  },
  {
   "cell_type": "markdown",
   "id": "3234a1c6",
   "metadata": {},
   "source": [
    "## Example9:\n",
    "**Computing Average:**"
   ]
  },
  {
   "cell_type": "code",
   "execution_count": 18,
   "id": "b1388e73",
   "metadata": {},
   "outputs": [
    {
     "name": "stdout",
     "output_type": "stream",
     "text": [
      "number of course>4\n",
      "0\n",
      "grade>12\n",
      "impact>2\n",
      "1\n",
      "grade>20\n",
      "impact>3\n",
      "2\n",
      "grade>12\n",
      "impact>2\n",
      "3\n",
      "grade>13\n",
      "impact>1\n",
      "The average is: 15.125\n"
     ]
    }
   ],
   "source": [
    "avg=0\n",
    "Sum=0\n",
    "Sumv=0\n",
    "n=int(input('number of course>'))\n",
    "for i in range(n):\n",
    "    grade=float(input('grade>'))\n",
    "    v=int(input('impact>'))\n",
    "    Sum+=grade*v\n",
    "    Sumv+=v\n",
    "print('The average is:', Sum/Sumv)\n"
   ]
  },
  {
   "cell_type": "markdown",
   "id": "50968adb",
   "metadata": {},
   "source": [
    "## Homework1: Calculator(Solution)"
   ]
  },
  {
   "cell_type": "code",
   "execution_count": 6,
   "id": "ea4a7758",
   "metadata": {
    "scrolled": true
   },
   "outputs": [
    {
     "name": "stdout",
     "output_type": "stream",
     "text": [
      "Op=+\n",
      "numbers:12 5\n",
      "17\n",
      "Op=-\n",
      "number:10\n",
      "7\n",
      "Op=*\n",
      "number:3\n",
      "21\n",
      "Op=/\n",
      "number:2\n",
      "10.5\n",
      "Op=$\n",
      "number:1\n"
     ]
    }
   ],
   "source": [
    "Op=input(\"Op=\")\n",
    "a,b=(input(\"numbers:\").split())\n",
    "a=int(a)\n",
    "b=int(b)\n",
    "while True:\n",
    "    if Op=='$':\n",
    "        break;\n",
    "    if Op=='+':\n",
    "        print(a+b)\n",
    "        a=a+b\n",
    "    elif Op=='-':\n",
    "        print(a-b)\n",
    "        a=a-b\n",
    "    elif Op=='*':\n",
    "        print(a*b)\n",
    "        a=a*b\n",
    "    else:\n",
    "        try:\n",
    "            print(a/b)\n",
    "            a=a/b\n",
    "        except:\n",
    "            print('Try again')\n",
    "    Op=input(\"Op=\")\n",
    "    b=int(input(\"number:\")) \n"
   ]
  }
 ],
 "metadata": {
  "kernelspec": {
   "display_name": "Python 3",
   "language": "python",
   "name": "python3"
  },
  "language_info": {
   "codemirror_mode": {
    "name": "ipython",
    "version": 3
   },
   "file_extension": ".py",
   "mimetype": "text/x-python",
   "name": "python",
   "nbconvert_exporter": "python",
   "pygments_lexer": "ipython3",
   "version": "3.8.8"
  }
 },
 "nbformat": 4,
 "nbformat_minor": 5
}
