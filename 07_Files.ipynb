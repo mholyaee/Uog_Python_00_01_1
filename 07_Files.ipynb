{
 "cells": [
  {
   "cell_type": "markdown",
   "id": "cf2bb29c",
   "metadata": {},
   "source": [
    "# Creating and using files"
   ]
  },
  {
   "cell_type": "markdown",
   "id": "9fc2ee3b",
   "metadata": {
    "direction": "rtl"
   },
   "source": [
    "## مثال:\n",
    "**برنامه ای بنویسید که فایلی را دریافت کرده و تعداد خطوط آن را نمایش دهد**"
   ]
  },
  {
   "cell_type": "code",
   "execution_count": 1,
   "id": "277dece2",
   "metadata": {},
   "outputs": [
    {
     "name": "stdout",
     "output_type": "stream",
     "text": [
      "Input filename:sample\n",
      "Numbe of lines: 18\n"
     ]
    }
   ],
   "source": [
    "filename=input(\"Input filename:\")\n",
    "filename=filename+'.txt'\n",
    "try:\n",
    "    fp=open(filename)\n",
    "    count=0\n",
    "    for Line in fp:\n",
    "        count+=1\n",
    "    print(\"Numbe of lines:\",count)\n",
    "except:\n",
    "    print(\"there isnt such file!\")\n"
   ]
  },
  {
   "cell_type": "markdown",
   "id": "8932221f",
   "metadata": {
    "direction": "rtl"
   },
   "source": [
    "## مثال:\n",
    "**برنامه ای بنویسید که فایلی را دریافت کرده و تعداد کلمات بکاررفته در آنرا نمایش دهد**"
   ]
  },
  {
   "cell_type": "code",
   "execution_count": 2,
   "id": "e39b1448",
   "metadata": {},
   "outputs": [
    {
     "name": "stdout",
     "output_type": "stream",
     "text": [
      "Input filename:sample\n",
      "The number of words: 200\n"
     ]
    }
   ],
   "source": [
    "filename=input(\"Input filename:\")\n",
    "filename=filename+'.txt'\n",
    "Sum=0\n",
    "try:\n",
    "    fp=open(filename)\n",
    "    for Line in fp:\n",
    "        temp=Line.split()\n",
    "        L=len(temp)\n",
    "        Sum+=L\n",
    "    print(\"The number of words:\",Sum)\n",
    "\n",
    "except:\n",
    "    print(\"there isnt such file!\")\n"
   ]
  },
  {
   "cell_type": "code",
   "execution_count": 5,
   "id": "45f67b0b",
   "metadata": {},
   "outputs": [
    {
     "name": "stdout",
     "output_type": "stream",
     "text": [
      "Input filename:sample\n",
      "The number of words: 198\n",
      "['Online', 'Python', 'IDE', 'Build', 'Run', 'Share', 'Python', 'code', 'online', 'using', \"online-python's\", 'IDE', 'for', 'free', \"It's\", 'one', 'of', 'the', 'quick', 'robust', 'powerful', 'online', 'compilers', 'for', 'python', 'language', \"Don't\", 'worry', 'about', 'setting', 'up', 'python', 'environment', 'in', 'your', 'local', 'Now', 'Run', 'the', 'python', 'code', 'in', 'your', 'favorite', 'browser', 'instantly', 'Getting', 'started', 'with', 'this', 'Python', 'editor', 'is', 'easy', 'and', 'fast', 'Just', 'write', 'the', 'program', 'and', 'click', 'the', 'RUN', 'button!!', 'Code', 'can', 'be', 'saved', 'online', 'by', 'using', 'the', 'SHARE', 'option', 'that', 'enables', 'you', 'to', 'access', 'your', 'code', 'anywhere', 'using', 'internet', 'About', 'Python', 'Python', 'is', 'a', 'very', 'popular', 'general-purpose', 'programming', 'language', 'which', 'was', 'created', 'by', 'Guido', 'van', 'Rossum', 'and', 'released', 'in', '1991', 'It', 'is', 'open-source', 'and', 'you', 'can', 'freely', 'use', 'distribute', 'Python', 'even', 'for', 'commercial', 'use', 'It', 'is', 'very', 'popular', 'for', 'web', 'development', 'and', 'you', 'can', 'build', 'almost', 'anything', 'like', 'mobile', 'apps', 'web', 'apps', 'tools', 'data', 'analytics', 'machine', 'learning', 'etc', 'It', 'is', 'designed', 'to', 'be', 'simple', 'and', 'easy', 'like', 'english', 'language', \"It's\", 'much', 'easier', 'to', 'read', 'and', 'write', 'Python', 'programs', 'compared', 'to', 'other', 'languages', 'like', 'C++', 'Java', 'C#', \"It's\", 'is', 'highly', 'productive', 'and', 'efficient', 'which', 'makes', 'it', 'a', 'very', 'popular', 'programming', 'language', 'To', 'learn', 'more', 'about', 'Python', 'check', 'out', 'some', 'of', 'the', 'following', 'links']\n"
     ]
    }
   ],
   "source": [
    "filename=input(\"Input filename:\")\n",
    "filename=filename+'.txt'\n",
    "Sum=0\n",
    "Lines=''\n",
    "try:\n",
    "    fp=open(filename)\n",
    "    for Line in fp:\n",
    "        for ch in Line:\n",
    "            if ch in ['.',',','&',';']:\n",
    "                Lines=Lines+' '\n",
    "            else:\n",
    "                Lines=Lines+ch\n",
    "                \n",
    "    Words=Lines.split()\n",
    "    nWords=len(Words)\n",
    "    print(\"The number of words:\",nWords)\n",
    "    print(Words)\n",
    "\n",
    "except:\n",
    "    print(\"there isnt such file!\")"
   ]
  },
  {
   "cell_type": "markdown",
   "id": "28ce7982",
   "metadata": {
    "direction": "rtl"
   },
   "source": [
    "## مثال:\n",
    "**برنامه ای بنویسید که کلمه ای را دریافت کرده و در فایل جستجو نماید**"
   ]
  },
  {
   "cell_type": "code",
   "execution_count": 6,
   "id": "7376e3ad",
   "metadata": {},
   "outputs": [
    {
     "name": "stdout",
     "output_type": "stream",
     "text": [
      "Find:python\n",
      "It's one of the quick, robust, powerful online compilers for python language. \n",
      "\n",
      "Don't worry about setting up python environment in your local. \n",
      "\n",
      "Now Run the python code in your favorite browser instantly. \n",
      "\n"
     ]
    }
   ],
   "source": [
    "try:\n",
    "    fp=open(\"sample.txt\")\n",
    "    str=input(\"Find:\")\n",
    "    for Line in fp:\n",
    "        temp=Line.split()\n",
    "        for t in temp:\n",
    "            if t==str:\n",
    "                print(Line)\n",
    "except:\n",
    "    print(\"there isnt such file!\")"
   ]
  },
  {
   "cell_type": "markdown",
   "id": "7cd77c22",
   "metadata": {
    "direction": "rtl"
   },
   "source": [
    "## مثال:\n",
    "**برنامه ای بنویسید که فایلی را دریافت کرده و بزرگترین کلمه در آنرا پیدا نماید**"
   ]
  },
  {
   "cell_type": "code",
   "execution_count": 9,
   "id": "f3bf6146",
   "metadata": {},
   "outputs": [
    {
     "name": "stdout",
     "output_type": "stream",
     "text": [
      "The longest word: online-python's\n"
     ]
    }
   ],
   "source": [
    "Longest=''\n",
    "try:\n",
    "    fp=open(\"sample.txt\")\n",
    "    for Line in fp:\n",
    "        temp=Line.split()\n",
    "        for w in temp:\n",
    "           if len(w)>len(Longest):\n",
    "               Longest=w\n",
    "    print(\"The longest word:\",Longest)\n",
    "\n",
    "except:\n",
    "    print(\"there isnt such file!\")\n"
   ]
  },
  {
   "cell_type": "markdown",
   "id": "a61f6665",
   "metadata": {
    "direction": "rtl"
   },
   "source": [
    "## مثال:\n",
    "**برنامه ای بنویسید که کلمه ای را از کاربر گرفته و آنرا در یک فایل متنی جستجو نماید. در صورت وجود، تعداد کل دفعات تکرار را بهمراه شماره خطوط نمایش دهد**"
   ]
  },
  {
   "cell_type": "code",
   "execution_count": 12,
   "id": "87ba89ea",
   "metadata": {},
   "outputs": [
    {
     "name": "stdout",
     "output_type": "stream",
     "text": [
      "Input the word:python\n",
      "3\n",
      "4\n",
      "5\n",
      "All number: 3\n"
     ]
    }
   ],
   "source": [
    "word=input(\"Input the word:\")\n",
    "nLine=1\n",
    "nWord=0\n",
    "try:\n",
    "    fp=open(\"sample.txt\")\n",
    "    for Line in fp:\n",
    "        temp=Line.split()\n",
    "        for w in temp:\n",
    "            if w==word:\n",
    "           #if w.upper()==word.upper():\n",
    "                print(nLine)\n",
    "                nWord+=1\n",
    "        nLine+=1\n",
    "    print(\"All number:\",nWord)\n",
    "\n",
    "except:\n",
    "    print(\"there isnt such file!\")"
   ]
  },
  {
   "cell_type": "code",
   "execution_count": null,
   "id": "c941da19",
   "metadata": {},
   "outputs": [],
   "source": []
  }
 ],
 "metadata": {
  "kernelspec": {
   "display_name": "Python 3",
   "language": "python",
   "name": "python3"
  },
  "language_info": {
   "codemirror_mode": {
    "name": "ipython",
    "version": 3
   },
   "file_extension": ".py",
   "mimetype": "text/x-python",
   "name": "python",
   "nbconvert_exporter": "python",
   "pygments_lexer": "ipython3",
   "version": "3.8.8"
  }
 },
 "nbformat": 4,
 "nbformat_minor": 5
}
