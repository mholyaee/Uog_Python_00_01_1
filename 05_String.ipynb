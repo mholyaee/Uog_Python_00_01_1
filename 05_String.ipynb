{
 "cells": [
  {
   "cell_type": "markdown",
   "id": "e04163d5",
   "metadata": {},
   "source": [
    "# strings"
   ]
  },
  {
   "cell_type": "markdown",
   "id": "4eb30062",
   "metadata": {},
   "source": [
    "## Example1: Simulating \"len\" function"
   ]
  },
  {
   "cell_type": "code",
   "execution_count": 26,
   "id": "292351d0",
   "metadata": {},
   "outputs": [
    {
     "name": "stdout",
     "output_type": "stream",
     "text": [
      "input your string:mohammad mehdi\n",
      "14\n"
     ]
    }
   ],
   "source": [
    "str=input('input your string:')\n",
    "i=0\n",
    "while True:\n",
    "    try:\n",
    "        letter=str[i]\n",
    "        i+=1\n",
    "    except:\n",
    "        break\n",
    "print(i)\n",
    "    "
   ]
  },
  {
   "cell_type": "code",
   "execution_count": 25,
   "id": "475a046c",
   "metadata": {},
   "outputs": [
    {
     "name": "stdout",
     "output_type": "stream",
     "text": [
      "input your string:mohammad mehdi\n",
      "Length of mohammad mehdi is: 14\n"
     ]
    }
   ],
   "source": [
    "str=input('input your string:')\n",
    "ctr=0\n",
    "for l in str:\n",
    "    ctr+=1\n",
    "print('Length of',str,'is:',ctr)"
   ]
  },
  {
   "cell_type": "markdown",
   "id": "ca4208e0",
   "metadata": {},
   "source": [
    "## Example2: Concatentaing two string"
   ]
  },
  {
   "cell_type": "code",
   "execution_count": 27,
   "id": "d95ab0da",
   "metadata": {},
   "outputs": [
    {
     "name": "stdout",
     "output_type": "stream",
     "text": [
      "The first:1111\n",
      "The Second:222\n",
      "2221111\n"
     ]
    }
   ],
   "source": [
    "str1=input('The first:')\n",
    "str2=input('The Second:')\n",
    "if len(str1)<len(str2):\n",
    "    print(str1+str2)\n",
    "else:\n",
    "    print(str2+str1)"
   ]
  },
  {
   "cell_type": "markdown",
   "id": "e3dcdc45",
   "metadata": {},
   "source": [
    "## Example3: Getting error if there is an upper case char in the string"
   ]
  },
  {
   "cell_type": "code",
   "execution_count": 29,
   "id": "f0aa14c4",
   "metadata": {},
   "outputs": [
    {
     "name": "stdout",
     "output_type": "stream",
     "text": [
      ">kamal mohammadi asl\n",
      "Ok\n"
     ]
    }
   ],
   "source": [
    "str=input('>')\n",
    "found=False\n",
    "for i in str:\n",
    "    if i in 'ABCDEFGHIJKLMNOPQRSTUVWXYZ': #using \"in\" opreator\n",
    "        found=True\n",
    "\n",
    "if found==False:\n",
    "    print('Ok')\n",
    "else:\n",
    "    print('Error')\n"
   ]
  },
  {
   "cell_type": "code",
   "execution_count": 32,
   "id": "9f39b242",
   "metadata": {},
   "outputs": [
    {
     "name": "stdout",
     "output_type": "stream",
     "text": [
      ">alireza\n"
     ]
    }
   ],
   "source": [
    "str=input('>')\n",
    "for i in str:\n",
    "    if i in 'ABCDEFGHIJKLMNOPQRSTUVWXYZ': #using \"in\" opreator\n",
    "        print('error')\n",
    "        break\n",
    "        \n",
    "\n"
   ]
  },
  {
   "cell_type": "code",
   "execution_count": 13,
   "id": "0a37f7d8",
   "metadata": {
    "scrolled": true
   },
   "outputs": [
    {
     "name": "stdout",
     "output_type": "stream",
     "text": [
      "m\n",
      "kysample\n"
     ]
    },
    {
     "ename": "TypeError",
     "evalue": "'str' object does not support item assignment",
     "output_type": "error",
     "traceback": [
      "\u001b[1;31m---------------------------------------------------------------------------\u001b[0m",
      "\u001b[1;31mTypeError\u001b[0m                                 Traceback (most recent call last)",
      "\u001b[1;32m<ipython-input-13-6a8d102203de>\u001b[0m in \u001b[0;36m<module>\u001b[1;34m\u001b[0m\n\u001b[0;32m      4\u001b[0m \u001b[0mnstr\u001b[0m\u001b[1;33m=\u001b[0m\u001b[1;34m'k'\u001b[0m\u001b[1;33m+\u001b[0m\u001b[0mstr\u001b[0m\u001b[1;33m[\u001b[0m\u001b[1;36m1\u001b[0m\u001b[1;33m:\u001b[0m\u001b[1;33m]\u001b[0m\u001b[1;33m\u001b[0m\u001b[1;33m\u001b[0m\u001b[0m\n\u001b[0;32m      5\u001b[0m \u001b[0mprint\u001b[0m\u001b[1;33m(\u001b[0m\u001b[0mnstr\u001b[0m\u001b[1;33m)\u001b[0m\u001b[1;33m\u001b[0m\u001b[1;33m\u001b[0m\u001b[0m\n\u001b[1;32m----> 6\u001b[1;33m \u001b[0mnstr\u001b[0m\u001b[1;33m[\u001b[0m\u001b[1;36m2\u001b[0m\u001b[1;33m]\u001b[0m\u001b[1;33m=\u001b[0m\u001b[1;34m'j'\u001b[0m\u001b[1;33m\u001b[0m\u001b[1;33m\u001b[0m\u001b[0m\n\u001b[0m",
      "\u001b[1;31mTypeError\u001b[0m: 'str' object does not support item assignment"
     ]
    }
   ],
   "source": [
    "str=\"mysample\"\n",
    "print(str[0])\n",
    "#str[0]='k'\n",
    "nstr='k'+str[1:]\n",
    "print(nstr)\n"
   ]
  },
  {
   "cell_type": "code",
   "execution_count": 15,
   "id": "6e609f18",
   "metadata": {},
   "outputs": [
    {
     "name": "stdout",
     "output_type": "stream",
     "text": [
      "Happy New Year: Omid\n",
      "O\n",
      "m\n",
      "i\n",
      "d\n",
      "Happy New Year: Ali\n",
      "A\n",
      "l\n",
      "i\n",
      "Happy New Year: Saba\n",
      "S\n",
      "a\n",
      "b\n",
      "a\n",
      "Done!\n"
     ]
    }
   ],
   "source": [
    "friends = ['Omid', 'Ali', 'Saba']\n",
    "for friend in friends:\n",
    "    print('Happy New Year:', friend)\n",
    "    for ch in friend:\n",
    "        print(ch)       \n",
    "print('Done!')"
   ]
  },
  {
   "cell_type": "markdown",
   "id": "aa9766af",
   "metadata": {},
   "source": [
    "## Example4: Define valid password such that:\n",
    "**The length must be at least 8\n",
    "<br>  Involves digit\n",
    "<br>  Involves upper and lower case chars**"
   ]
  },
  {
   "cell_type": "code",
   "execution_count": 8,
   "id": "64db81b7",
   "metadata": {},
   "outputs": [
    {
     "name": "stdout",
     "output_type": "stream",
     "text": [
      ">myPassword\n",
      "Not valid\n"
     ]
    }
   ],
   "source": [
    "str=input('>')\n",
    "chLength=chUp=chLow=chDigit=False\n",
    "if len(str)>=8:\n",
    "    chLength=True\n",
    "for i in str:\n",
    "    if i in 'ABCDEFGHIJKLMNOPQRSTUVWXYZ':\n",
    "        chUp=True\n",
    "    if i in 'abcdefghijklmnopqrstuvwxyz':\n",
    "        chLow=True\n",
    "    if i in '0123456789':\n",
    "        chDigit=True\n",
    "if chUp and chLength and chLow and chDigit:\n",
    "    print(\"Ok\")\n",
    "else:\n",
    "    print(\"Not valid\")\n"
   ]
  },
  {
   "cell_type": "markdown",
   "id": "7732f705",
   "metadata": {
    "direction": "rtl"
   },
   "source": [
    "## مثال۵\n",
    "**برنامه ای بنویسید که نام شما را دریافت کرده و در لیست اسامی برندگان قرعه کشی بانک جستجو نماید.**"
   ]
  },
  {
   "cell_type": "code",
   "execution_count": 20,
   "id": "45c359b7",
   "metadata": {},
   "outputs": [
    {
     "name": "stdout",
     "output_type": "stream",
     "text": [
      "> Get name:farzin\n",
      "Sorry!\n"
     ]
    }
   ],
   "source": [
    "List=['amir','mitra','baran','mahdi','milad']\n",
    "name=input('> Get name:')\n",
    "found=False\n",
    "for i in List:\n",
    "    if i==name:\n",
    "        print('congratulation!!')\n",
    "        found=True\n",
    "        break    \n",
    "        \n",
    "if found==False:\n",
    "    print('Sorry!')\n"
   ]
  },
  {
   "cell_type": "markdown",
   "id": "4d437603",
   "metadata": {
    "direction": "rtl"
   },
   "source": [
    "## مثال۶:\n",
    "**برنامه ای بنویسید که عبارتی را دریافت کرده و کلمه Computer را در آن جستجو نماید**\n"
   ]
  },
  {
   "cell_type": "code",
   "execution_count": 10,
   "id": "45c83929",
   "metadata": {},
   "outputs": [
    {
     "name": "stdout",
     "output_type": "stream",
     "text": [
      ">ssssComputersss\n",
      "Exist\n"
     ]
    }
   ],
   "source": [
    "str=input('>')\n",
    "if 'Computer' in str:\n",
    "    print('Exist')\n",
    "else:\n",
    "    print('There isnt')"
   ]
  },
  {
   "cell_type": "code",
   "execution_count": 12,
   "id": "3df5796e",
   "metadata": {},
   "outputs": [
    {
     "name": "stdout",
     "output_type": "stream",
     "text": [
      ">Computer ddd Computer scm Com\n",
      "0\n",
      "13\n"
     ]
    }
   ],
   "source": [
    "str=input('>')\n",
    "i=0\n",
    "while i<len(str):\n",
    "    if str[i:i+len('Computer')]=='Computer':\n",
    "        print(i)\n",
    "    i+=1"
   ]
  },
  {
   "cell_type": "markdown",
   "id": "ab970dd5",
   "metadata": {
    "direction": "rtl"
   },
   "source": [
    "## مثال:\n",
    "**برنامه ای بنویسید که رشته ای را به عنوان ایمیل کاربر از وی گرفته و اعتبارسنجی نماید\n",
    "در این برنامه ایمیلی معتبر است که شامل کارکترهای ‘.’ و @ باشد**\n"
   ]
  },
  {
   "cell_type": "code",
   "execution_count": 13,
   "id": "983e2009",
   "metadata": {},
   "outputs": [
    {
     "name": "stdout",
     "output_type": "stream",
     "text": [
      "email:mh.olyaee@gmail.com\n",
      "Valid\n"
     ]
    }
   ],
   "source": [
    "email=input('email:')\n",
    "dot=False\n",
    "at=False\n",
    "if '.' in email:\n",
    "    dot=True\n",
    "if '@' in email:\n",
    "    at=True\n",
    "if dot and at:\n",
    "    print('Valid')\n",
    "else:\n",
    "    print('Not Valid')\n"
   ]
  },
  {
   "cell_type": "markdown",
   "id": "354ed7dc",
   "metadata": {
    "direction": "rtl"
   },
   "source": [
    "## مثال:\n",
    "**برنامه ای بنویسید که رشته ای را به عنوان ایمیل کاربر از وی گرفته و دامنه آنرا استخراج نماید**"
   ]
  },
  {
   "cell_type": "code",
   "execution_count": 23,
   "id": "84891c5d",
   "metadata": {},
   "outputs": [
    {
     "name": "stdout",
     "output_type": "stream",
     "text": [
      "email:mh.olyaee@gmail.com\n",
      "gmail\n"
     ]
    }
   ],
   "source": [
    "email=input('email:')\n",
    "atind=0\n",
    "while atind<len(email):\n",
    "    if email[atind]=='@':\n",
    "        break\n",
    "    atind+=1\n",
    "dotind=atind+1\n",
    "while dotind<len(email):\n",
    "    if email[dotind]=='.':\n",
    "        print(email[atind+1:dotind])\n",
    "        break\n",
    "    dotind+=1\n"
   ]
  },
  {
   "cell_type": "code",
   "execution_count": null,
   "id": "ee87748c",
   "metadata": {},
   "outputs": [],
   "source": []
  },
  {
   "cell_type": "code",
   "execution_count": null,
   "id": "1882a07b",
   "metadata": {},
   "outputs": [],
   "source": []
  }
 ],
 "metadata": {
  "kernelspec": {
   "display_name": "Python 3",
   "language": "python",
   "name": "python3"
  },
  "language_info": {
   "codemirror_mode": {
    "name": "ipython",
    "version": 3
   },
   "file_extension": ".py",
   "mimetype": "text/x-python",
   "name": "python",
   "nbconvert_exporter": "python",
   "pygments_lexer": "ipython3",
   "version": "3.8.8"
  }
 },
 "nbformat": 4,
 "nbformat_minor": 5
}
